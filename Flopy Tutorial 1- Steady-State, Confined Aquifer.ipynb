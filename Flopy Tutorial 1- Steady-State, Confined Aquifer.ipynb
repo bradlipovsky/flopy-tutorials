{
 "cells": [
  {
   "cell_type": "markdown",
   "metadata": {},
   "source": [
    "# Flopy Tutorial 1: Steady-State, Confined Aquifer "
   ]
  },
  {
   "cell_type": "markdown",
   "metadata": {},
   "source": [
    "This script will walk through the creation of a single-layer, confined aquifer in _flopy_ with _MODFLOW6_ to run a steady-state simulation of groundwater flow in a 100m x 100m domain with a 10m head boundary on one side and a 0m head boundary on the other side, as displayed below:\n",
    "\n",
    "<img src=\"https://i.imgur.com/PH9sCDw.png\" title=\"modflow model\" width=\"600px\" /></a>\n",
    "\n",
    "If you're new to flopy, check out the documentation [here](https://github.com/modflowpy/flopy). It's an excellent resource for download instructions, all of the flopy commands, and examples of flopy code. The basis for this tutorial may be found here as well, with some further explanation/post-processing done in this jupyter notebook.\n",
    "\n",
    "Using flopy, it is helpful to be familiar with MODFLOW. The online documentation is located here and will have additional information on the variables used in flopy functions: \n",
    "\n",
    "- Hughes, J.D., Langevin, C.D., and Banta, E.R., 2017, Documentation for the MODFLOW 6 framework: U.S. Geological Survey Techniques and Methods, book 6, chap. A57, 40 p., https://doi.org/10.3133/tm6A57.\n",
    "- Langevin, C.D., Hughes, J.D., Banta, E.R., Niswonger, R.G., Panday, Sorab, and Provost, A.M., 2017, Documentation for the MODFLOW 6 Groundwater Flow Model: U.S. Geological Survey Techniques and Methods, book 6, chap. A55, 197 p., https://doi.org/10.3133/tm6A55.\n",
    "\n",
    "<strong> Note:</strong> In order to use this script you must download a MODFLOW executable from the USGS website. (https://water.usgs.gov/ogw/modflow/) This script will only work with *MODFLOW6* executables."
   ]
  },
  {
   "cell_type": "markdown",
   "metadata": {},
   "source": [
    "References: This tutorial is based off the flopy documentation located here: http://modflowpy.github.io/flopydoc/ Bakker, M., Post, V., Langevin, C. D., Hughes, J. D., White, J. T., Starn, J. J. and Fienen, M. N., 2016, Scripting MODFLOW Model Development Using Python and FloPy: Groundwater, v. 54, p. 733–739, doi:10.1111/gwat.12413."
   ]
  },
  {
   "cell_type": "markdown",
   "metadata": {},
   "source": [
    "# Introduction\n",
    "Flopy is a python package, developed to create and run MODFLOW groundwater flow models. The schematic below, illustrates how Flopy communicates with MODFLOW:\n",
    "\n",
    "<img src=\"https://i.imgur.com/n2Dj6QF.png\" title=\"Flopy to MODFLOW Flow Chart\" /></a>\n",
    "\n",
    "* <strong> <font size = 5> 1 </font> </strong> Aquifer properties are collected or estimated from some aquifer system, including dimensions, elevations, hydraulic conductivity, specific storage/yield and location/properties of wells, rivers, lakes or other hydrologic features. \n",
    "\n",
    "* <strong> <font size = 5> 2 </font> </strong> A model is created in a python script using the Flopy package to set up the different Packages MODFLOW uses to run its groundwater flow models, (DIS, BAS, LPF, RIV, WEL, ETC...), as python objects. \n",
    "\n",
    "* <strong> <font size = 5> 3 </font> </strong> Flopy is called to write the MODFLOW input files from these objects. \n",
    "\n",
    "* <strong> <font size = 5> 4 </font> </strong> A Flopy function sends the files to a specified MODFLOW executable program that will be used to solve the groundwater flow model. \n",
    "\n",
    "* <strong> <font size = 5> 5 </font> </strong> The MODFLOW executable program outputs binary data into head and budget files. \n",
    "\n",
    "* <strong> <font size = 5> 6 </font> </strong> Flopy reads in binary head and budget data from the MODFLOW output files.\n",
    "\n",
    "* <strong> <font size = 5> 7 </font> </strong> Data is visualized using Flopy's plotting capabilities.        \n",
    "\n",
    "\n",
    "## Contents of script:\n",
    "\n",
    "* <strong><a href=\"#I\">I: Model Object </a></strong>\n",
    "\n",
    "\n",
    "#### Creating MODFLOW Packages in Flopy:\n",
    "* <strong><a href=\"#II\">II: DIS Package</a> </strong> \n",
    "    <ul>\n",
    "      <li> Discretizing time & space and setting up the MODFLOW DIS file.</li>  \n",
    "        </ul>\n",
    "    \n",
    "* <strong><a href=\"#III\">III: BAS Package</a> </strong>\n",
    "    <ul>\n",
    "      <li> Specifying cell activity and setting up the MODFLOW BAS file.</li>  \n",
    "        </ul>\n",
    "* <strong><a href=\"#IV\">IV: LPF Package</a> </strong>\n",
    "    <ul>\n",
    "      <li> Defining model properties and setting up the MODFLOW LPF file.</li>  \n",
    "        </ul>\n",
    "\n",
    "* <strong><a href=\"#V\">V: OC Package</a> </strong>\n",
    "    <ul>\n",
    "      <li> Specifying the data that the MODFLOW executable will record as output during the model run and setting up the MODFLOW OC package.</li>  \n",
    "        </ul>\n",
    "\n",
    "* <strong><a href=\"#VI\">VI: PCG Package</a> </strong>\n",
    "    <ul>\n",
    "      <li> Assigning the pre-conditioned conjugate gradient solver to the groundwater flow model by setting up the MODFLOW PCG package.</li>  \n",
    "        </ul>\n",
    "\n",
    "#### Writing Files and Running Model:\n",
    "\n",
    "* <strong><a href=\"#VII\">VII: Write MODFLOW Input Files</a> </strong>\n",
    "* <strong><a href=\"#VIII\">VIII: Run MODFLOW executable</a> </strong>\n",
    "\n",
    "#### Post Processing:\n",
    "* <strong><a href=\"#IX\">IX: Read MODFLOW output</a> </strong>\n",
    "* <strong><a href=\"#X\">X: Plot Results</a> </strong>\n",
    "    </li>\n",
    "<ol>\n",
    "\n"
   ]
  },
  {
   "cell_type": "markdown",
   "metadata": {},
   "source": [
    "- First we will import the appropriate packages to run a modflow model in python and display the data"
   ]
  },
  {
   "cell_type": "code",
   "execution_count": 1,
   "metadata": {},
   "outputs": [],
   "source": [
    "import flopy\n",
    "import numpy as np\n",
    "import matplotlib.pyplot as plt\n",
    "import matplotlib as mp\n",
    "\n",
    "\n",
    "#jupyter specific--included to show plots in notebook\n",
    "%matplotlib inline "
   ]
  },
  {
   "cell_type": "markdown",
   "metadata": {},
   "source": [
    " <a name=\"I\"></a> \n",
    " ## I. Create Model Object\n",
    "\n",
    "- We define a Modflow model class object using the following flopy function. The arguments are telling object 'model' what the modelname is and where the MODFLOW .exe file is to use to run the model on your computer. <strong> You will have to modify the exe_name variable to direct flopy to the modflow executable file on your computer!</strong> Note that the default model workspace is the location of your python notebook, so all MODFLOW files will be created there, but you may specify a different workspace if you'd like the files to be created somewhere else. (See: http://modflowpy.github.io/flopydoc/mf.html for more options)"
   ]
  },
  {
   "cell_type": "code",
   "execution_count": 2,
   "metadata": {},
   "outputs": [],
   "source": [
    "model_name = \"my_model\"              # <- same as before\n",
    "workspace  = \"./my_model_ws\"         # where input & output will go\n",
    "\n",
    "sim = flopy.mf6.MFSimulation(\n",
    "    sim_name=model_name,\n",
    "    sim_ws=workspace\n",
    ")"
   ]
  },
  {
   "cell_type": "markdown",
   "metadata": {},
   "source": [
    " <a name=\"II\"></a> \n",
    "## II. MODFLOW DIS package\n",
    "Now we attach the DIS package to our model. The DIS package specifies model discretization in space and time. It contains information regarding:\n",
    "- <strong> spatial discretization: </strong> (the number of rows, layers, and columns, as well as cell sizes)\n",
    "- <strong> temporal discretization: </strong> (number of stress periods, steady-state/transient model within a stress period, length of stress periods, and the number of time steps within stress periods)\n",
    "- length and time <strong> units  </strong>\n",
    "\n",
    "### Spatial Discretization\n",
    "- We define a 100 x 100 unit model domain, and discretize this into 10 rows and columns. "
   ]
  },
  {
   "cell_type": "code",
   "execution_count": 3,
   "metadata": {},
   "outputs": [],
   "source": [
    "#assign discretization variables\n",
    "Lx = 100.\n",
    "Ly = 100.\n",
    "ztop = 0.\n",
    "zbot = -50.\n",
    "nlay = 1\n",
    "nrow = 10\n",
    "ncol = 10\n",
    "dx = Lx/ncol\n",
    "dy = Ly/nrow\n",
    "dz = (ztop - zbot) / nlay"
   ]
  },
  {
   "cell_type": "markdown",
   "metadata": {},
   "source": [
    "<img src=\"https://i.imgur.com/Abaeeyo.png\" title=\"discretization\" /></a>"
   ]
  },
  {
   "cell_type": "markdown",
   "metadata": {},
   "source": [
    "### Temporal Discretization\n",
    "\n",
    "To discretize time, we must first specify how many stress periods are involved in this model. This is done through flopy's variable 'nper'. As we are solving a steady-state model, we will only specify 1 stress period."
   ]
  },
  {
   "cell_type": "code",
   "execution_count": 4,
   "metadata": {},
   "outputs": [],
   "source": [
    "# 2. Time-discretisation (TDIS)  ── one period, steady-state\n",
    "time_discretization = flopy.mf6.ModflowTdis(sim)"
   ]
  },
  {
   "cell_type": "markdown",
   "metadata": {},
   "source": [
    "### Create DIS object\n",
    "\n",
    "The spatial and temporal discretizations are used to create the flopy dis object which will later be used to create the MODFLOW \"dis\" package. "
   ]
  },
  {
   "cell_type": "code",
   "execution_count": 5,
   "metadata": {},
   "outputs": [],
   "source": [
    "#create flopy discretization object, length and time are meters (2) and days (4)\n",
    "\n",
    "#assign discretization variables\n",
    "Lx = 100.\n",
    "Ly = 100.\n",
    "ztop = 0.\n",
    "zbot = -50.\n",
    "nlay = 1\n",
    "nrow = 10\n",
    "ncol = 10\n",
    "dx = Lx/ncol\n",
    "dy = Ly/nrow\n",
    "dz = (ztop - zbot) / nlay\n",
    "\n",
    "# 2. IMS solver (simple defaults)\n",
    "ims = flopy.mf6.ModflowIms(sim, complexity=\"SIMPLE\")\n",
    "\n",
    "# 3. Ground-water-flow model container\n",
    "gwf = flopy.mf6.ModflowGwf(sim, modelname=model_name, save_flows=True)\n",
    "\n",
    "# 4. Discretisation package (replaces ModflowDis)\n",
    "dis = flopy.mf6.ModflowGwfdis(\n",
    "    gwf,\n",
    "    nlay=nlay,\n",
    "    nrow=nrow,\n",
    "    ncol=ncol,\n",
    "    delr=dx,\n",
    "    delc=dy,\n",
    "    top=ztop,\n",
    "    botm=zbot,\n",
    "    length_units=\"METERS\",        # replaces lenuni = 2\n",
    ")"
   ]
  },
  {
   "cell_type": "markdown",
   "metadata": {},
   "source": [
    "Confused about the arguments given to the flopy.modflow.ModflowDis() function? \n",
    "Check out the Flopy documentation here: http://modflowpy.github.io/flopydoc/mfdis.html \n",
    "\n",
    "If you'd like to see the grid you've created, flopy has plotting capabilities to visualize \"ModelMap\" attributes such as the grid, which it pulls from the flopy \"dis\" object. Note that ModelMap uses matplotlib, so you will want to make sure you have that package imported at the top of your script as well!"
   ]
  },
  {
   "cell_type": "code",
   "execution_count": 6,
   "metadata": {},
   "outputs": [
    {
     "data": {
      "image/png": "[encoded data removed]",
      "text/plain": [
       "<Figure size 640x480 with 1 Axes>"
      ]
     },
     "metadata": {},
     "output_type": "display_data"
    }
   ],
   "source": [
    "from flopy.plot import PlotMapView\n",
    "\n",
    "# -- plot the structured grid of the MF6 model --------------------\n",
    "map_view = PlotMapView(model=gwf, layer=0)   # gwf is the ModflowGwf object\n",
    "map_view.plot_grid()\n",
    "\n",
    "plt.xlabel(\"Lx (m)\", fontsize=14)\n",
    "plt.ylabel(\"Ly (m)\", fontsize=14)\n",
    "plt.title(\"Grid\", fontsize=15, fontweight=\"bold\")\n",
    "plt.show()"
   ]
  },
  {
   "cell_type": "markdown",
   "metadata": {},
   "source": []
  },
  {
   "cell_type": "code",
   "execution_count": 7,
   "metadata": {},
   "outputs": [
    {
     "data": {
      "text/plain": [
       "package_name = chd_0\n",
       "filename = my_model.chd\n",
       "package_type = chd\n",
       "model_or_simulation_package = model\n",
       "model_name = my_model\n",
       "\n",
       "Block period\n",
       "--------------------\n",
       "stress_period_data\n",
       "{internal}\n",
       "(    cellid_layer  cellid_row  cellid_column  head\n",
       "0              0           0              0  10.0\n",
       "1              0           1              0  10.0\n",
       "2              0           2              0  10.0\n",
       "3              0           3              0  10.0\n",
       "4              0           4              0  10.0\n",
       "5              0           5              0  10.0\n",
       "6              0           6              0  10.0\n",
       "7              0           7              0  10.0\n",
       "8              0           8              0  10.0\n",
       "9              0           9              0  10.0\n",
       "10             0           0              9   0.0\n",
       "11             0           1              9   0.0\n",
       "12             0           2              9   0.0\n",
       "13             0           3              9   0.0\n",
       "14             0           4              9   0.0\n",
       "15             0           5              9   0.0\n",
       "16             0           6              9   0.0\n",
       "17             0           7              9   0.0\n",
       "18             0           8              9   0.0\n",
       "19             0           9              9   0.0)\n",
       "\n"
      ]
     },
     "execution_count": 7,
     "metadata": {},
     "output_type": "execute_result"
    }
   ],
   "source": [
    "# constant-head boundaries (left & right faces)\n",
    "chd_cells = [((0, r, 0), 10.0) for r in range(nrow)] + \\\n",
    "            [((0, r, ncol - 1), 0.0) for r in range(nrow)]\n",
    "flopy.mf6.ModflowGwfchd(gwf, stress_period_data=chd_cells)\n"
   ]
  },
  {
   "cell_type": "markdown",
   "metadata": {},
   "source": [
    "### Define initial conditions (starting heads)\n",
    "_strt_ is a 3-D NumPy array with shape (nlay, nrow, ncol) that supplies the initial head in every active cell at the start of the simulation.\n",
    "In MODFLOW 6 the cells that hold a fixed head are listed separately in a CHD (Constant Head) package, so:\n",
    "\n",
    "- The values you place in strt for those CHD cells are effectively ignored once the model starts—they are immediately overwritten by the constant-head condition.\n",
    "\n",
    "- For all other (active, non-CHD) cells, strt provides the initial guess for the solver (useful for transient problems) or the starting value that will be iterated to steady state.\n",
    "\n",
    "In this model we want a steady-state flow field driven by:\n",
    "\n",
    "- Left boundary: h = 10 m\n",
    "\n",
    "- Right boundary: h = 0 m"
   ]
  },
  {
   "cell_type": "code",
   "execution_count": 8,
   "metadata": {},
   "outputs": [
    {
     "name": "stdout",
     "output_type": "stream",
     "text": [
      "starting head values: \n",
      " [[[10.  1.  1.  1.  1.  1.  1.  1.  1.  0.]\n",
      "  [10.  1.  1.  1.  1.  1.  1.  1.  1.  0.]\n",
      "  [10.  1.  1.  1.  1.  1.  1.  1.  1.  0.]\n",
      "  [10.  1.  1.  1.  1.  1.  1.  1.  1.  0.]\n",
      "  [10.  1.  1.  1.  1.  1.  1.  1.  1.  0.]\n",
      "  [10.  1.  1.  1.  1.  1.  1.  1.  1.  0.]\n",
      "  [10.  1.  1.  1.  1.  1.  1.  1.  1.  0.]\n",
      "  [10.  1.  1.  1.  1.  1.  1.  1.  1.  0.]\n",
      "  [10.  1.  1.  1.  1.  1.  1.  1.  1.  0.]\n",
      "  [10.  1.  1.  1.  1.  1.  1.  1.  1.  0.]]]\n"
     ]
    }
   ],
   "source": [
    "# starting heads (interior = 1 m, left = 10 m, right = 0 m)\n",
    "strt = np.ones((nlay, nrow, ncol), dtype=float)\n",
    "strt[:, :, 0]  = 10.0\n",
    "strt[:, :, -1] = 0.0\n",
    "flopy.mf6.ModflowGwfic(gwf, strt=strt)\n",
    "\n",
    "print(\"starting head values: \\n\", strt)"
   ]
  },
  {
   "cell_type": "markdown",
   "metadata": {},
   "source": [
    " <a name=\"IV\"></a> \n",
    "## IV. MODFLOW LPF package"
   ]
  },
  {
   "cell_type": "markdown",
   "metadata": {},
   "source": [
    "The LPF package specifies Layer Properties associated with the flow in each cell. It holds information regarding horizontal and vertical hydraulic conductivity, layer confinement properties (confined/unconfined), specific storage, and specific yield among other flags for the model run for  which we will use flopy's default settings.\n",
    "\n",
    "### Define Hydraulic Conductivity\n",
    "\n",
    "Here we define \"hk\" as a variable for horizontal hydraulic conductivity of 1 m/d that will be the same in the x and y directions, and \"vka\" as a variable for vertical conductivity of 1 m/d. hk and vka are arrays of floats of form (nlay, nrow, ncol) with conductivity values for each cell. You may also specify a ratio of anisotropy in the y direction for the flopy LPF function, if hk should be anisotropic in the xy plane.\n"
   ]
  },
  {
   "cell_type": "code",
   "execution_count": 9,
   "metadata": {},
   "outputs": [
    {
     "name": "stdout",
     "output_type": "stream",
     "text": [
      "horizontal k values: \n",
      " [[[1. 1. 1. 1. 1. 1. 1. 1. 1. 1.]\n",
      "  [1. 1. 1. 1. 1. 1. 1. 1. 1. 1.]\n",
      "  [1. 1. 1. 1. 1. 1. 1. 1. 1. 1.]\n",
      "  [1. 1. 1. 1. 1. 1. 1. 1. 1. 1.]\n",
      "  [1. 1. 1. 1. 1. 1. 1. 1. 1. 1.]\n",
      "  [1. 1. 1. 1. 1. 1. 1. 1. 1. 1.]\n",
      "  [1. 1. 1. 1. 1. 1. 1. 1. 1. 1.]\n",
      "  [1. 1. 1. 1. 1. 1. 1. 1. 1. 1.]\n",
      "  [1. 1. 1. 1. 1. 1. 1. 1. 1. 1.]\n",
      "  [1. 1. 1. 1. 1. 1. 1. 1. 1. 1.]]] \n",
      " vertical k values: \n",
      " [[[1. 1. 1. 1. 1. 1. 1. 1. 1. 1.]\n",
      "  [1. 1. 1. 1. 1. 1. 1. 1. 1. 1.]\n",
      "  [1. 1. 1. 1. 1. 1. 1. 1. 1. 1.]\n",
      "  [1. 1. 1. 1. 1. 1. 1. 1. 1. 1.]\n",
      "  [1. 1. 1. 1. 1. 1. 1. 1. 1. 1.]\n",
      "  [1. 1. 1. 1. 1. 1. 1. 1. 1. 1.]\n",
      "  [1. 1. 1. 1. 1. 1. 1. 1. 1. 1.]\n",
      "  [1. 1. 1. 1. 1. 1. 1. 1. 1. 1.]\n",
      "  [1. 1. 1. 1. 1. 1. 1. 1. 1. 1.]\n",
      "  [1. 1. 1. 1. 1. 1. 1. 1. 1. 1.]]]\n"
     ]
    }
   ],
   "source": [
    "#define horizontal hydraulic conductivity\n",
    "hk = np.ones((nlay,nrow,ncol), dtype=np.float32)\n",
    "vk = np.ones((nlay,nrow,ncol), dtype=np.float32)\n",
    "\n",
    "print(\"horizontal k values: \\n\", hk,\n",
    "     \"\\n vertical k values: \\n\", vk)"
   ]
  },
  {
   "cell_type": "markdown",
   "metadata": {},
   "source": [
    "### Define Specific Storage\n",
    "\n",
    "Specific storage is defined in a similar format to hydraulic conductivity with a value of $1 x 10^{-5} m^{-1}$ for each cell."
   ]
  },
  {
   "cell_type": "code",
   "execution_count": 10,
   "metadata": {},
   "outputs": [
    {
     "name": "stdout",
     "output_type": "stream",
     "text": [
      "specific storage values: \n",
      " [[[1.e-05 1.e-05 1.e-05 1.e-05 1.e-05 1.e-05 1.e-05 1.e-05 1.e-05 1.e-05]\n",
      "  [1.e-05 1.e-05 1.e-05 1.e-05 1.e-05 1.e-05 1.e-05 1.e-05 1.e-05 1.e-05]\n",
      "  [1.e-05 1.e-05 1.e-05 1.e-05 1.e-05 1.e-05 1.e-05 1.e-05 1.e-05 1.e-05]\n",
      "  [1.e-05 1.e-05 1.e-05 1.e-05 1.e-05 1.e-05 1.e-05 1.e-05 1.e-05 1.e-05]\n",
      "  [1.e-05 1.e-05 1.e-05 1.e-05 1.e-05 1.e-05 1.e-05 1.e-05 1.e-05 1.e-05]\n",
      "  [1.e-05 1.e-05 1.e-05 1.e-05 1.e-05 1.e-05 1.e-05 1.e-05 1.e-05 1.e-05]\n",
      "  [1.e-05 1.e-05 1.e-05 1.e-05 1.e-05 1.e-05 1.e-05 1.e-05 1.e-05 1.e-05]\n",
      "  [1.e-05 1.e-05 1.e-05 1.e-05 1.e-05 1.e-05 1.e-05 1.e-05 1.e-05 1.e-05]\n",
      "  [1.e-05 1.e-05 1.e-05 1.e-05 1.e-05 1.e-05 1.e-05 1.e-05 1.e-05 1.e-05]\n",
      "  [1.e-05 1.e-05 1.e-05 1.e-05 1.e-05 1.e-05 1.e-05 1.e-05 1.e-05 1.e-05]]]\n"
     ]
    }
   ],
   "source": [
    "#define specific storage\n",
    "ss = np.ones((nlay,nrow,ncol), dtype=float)\n",
    "ss[:,:,:] = 1e-5\n",
    "\n",
    "print(\"specific storage values: \\n\", ss)"
   ]
  },
  {
   "cell_type": "markdown",
   "metadata": {},
   "source": [
    "### Define Aquifer Confinement Properties\n",
    "\n",
    "Layers may be specified in flopy with variable <strong> laytyp </strong>, an array of (nlay) integer flags to say whether a model is:\n",
    "\n",
    "- <strong> =0 Confined:</strong>  Aquifer layers will be treated as confined\n",
    "- <strong> >0 Convertible:</strong> Aquifer layers will be treated as confined if the water level is above the top of the aquifer cell and unconfined if the water level is below the top of the aquifer cell.\n",
    "\n",
    "This single-layer model will be treated as confined."
   ]
  },
  {
   "cell_type": "code",
   "execution_count": 11,
   "metadata": {},
   "outputs": [
    {
     "name": "stdout",
     "output_type": "stream",
     "text": [
      "layer type values: \n",
      " [0]\n"
     ]
    }
   ],
   "source": [
    "#define layer type as confined\n",
    "laytyp = np.zeros((nlay,), dtype=np.int32)\n",
    "\n",
    "print(\"layer type values: \\n\", laytyp)"
   ]
  },
  {
   "cell_type": "code",
   "execution_count": 12,
   "metadata": {},
   "outputs": [],
   "source": [
    "npf = flopy.mf6.ModflowGwfnpf(\n",
    "    gwf,\n",
    "    icelltype=laytyp,   # 0 = confined, 1 = convertible (same flags you used before)\n",
    "    k=hk,               # horizontal hydraulic conductivity\n",
    "    k33=vk,             # vertical hydraulic conductivity (vka)\n",
    "    save_specific_discharge=True,\n",
    ")"
   ]
  },
  {
   "cell_type": "code",
   "execution_count": 13,
   "metadata": {},
   "outputs": [],
   "source": [
    "# Define output file names\n",
    "budget_output_file = model_name + '.bud'\n",
    "head_output_file = model_name + '.hds'\n",
    "\n",
    "# Output control package for saving head and budget data\n",
    "output_control = flopy.mf6.ModflowGwfoc(gwf,\n",
    "                                        budget_filerecord=budget_output_file,\n",
    "                                        head_filerecord=head_output_file,\n",
    "                                        saverecord=[('HEAD', 'ALL'), ('BUDGET', 'ALL')])"
   ]
  },
  {
   "cell_type": "code",
   "execution_count": 14,
   "metadata": {},
   "outputs": [
    {
     "name": "stdout",
     "output_type": "stream",
     "text": [
      "writing simulation...\n",
      "  writing simulation name file...\n",
      "  writing simulation tdis package...\n",
      "  writing solution package ims_-1...\n",
      "  writing model my_model...\n",
      "    writing model name file...\n",
      "    writing package dis...\n",
      "    writing package chd_0...\n",
      "INFORMATION: maxbound in ('gwf6', 'chd', 'dimensions') changed to 20 based on size of stress_period_data\n",
      "    writing package ic...\n",
      "    writing package npf...\n",
      "    writing package oc...\n"
     ]
    }
   ],
   "source": [
    "# Write the simulation input files\n",
    "sim.write_simulation()"
   ]
  },
  {
   "cell_type": "markdown",
   "metadata": {},
   "source": [
    "Flopy should have created 6 new files in your working directory that look something like:\n",
    "\n",
    "<img src=\"https://i.imgur.com/AjODHeO.png\" title=\"modflow_files\" /></a>\n",
    "\n",
    "The file to pay attention to is the \"my_model.nam\" file. This file governs which packages will be attached to your MODFLOW file. Inside the name file it will list all the packages to be attached to your model as well as specify that BINARY DATA files that it will write as an output. (my_model.hds, my_model.cbc)\n",
    "\n",
    "<img src=\"https://i.imgur.com/8KOHV9T.png\" title=\"nam_file\" /></a>\n",
    "\n",
    "Another file to pay attention to, post run, is the LIST file. This will have additional information on how the packages are attached to your model as well as MODFLOW mass-balance budgets during the model run. "
   ]
  },
  {
   "cell_type": "markdown",
   "metadata": {},
   "source": [
    " <a name=\"VIII\"></a> \n",
    "## VIII. Run MODFLOW Model\n",
    "\n",
    "We can now run the MODFLOW model with the packages specified in the .nam file using the executable specified in the definition of our flopy model 'm':"
   ]
  },
  {
   "cell_type": "code",
   "execution_count": 15,
   "metadata": {},
   "outputs": [
    {
     "name": "stdout",
     "output_type": "stream",
     "text": [
      "FloPy is using the following executable to run the model: ../../../../../opt/mf6.6.2_macarm/bin/mf6\n",
      "                                   MODFLOW 6\n",
      "                U.S. GEOLOGICAL SURVEY MODULAR HYDROLOGIC MODEL\n",
      "                            VERSION 6.6.2 05/12/2025\n",
      "\n",
      "        MODFLOW 6 compiled May 12 2025 12:37:58 with GCC version 13.3.0\n",
      "\n",
      "This software has been approved for release by the U.S. Geological \n",
      "Survey (USGS). Although the software has been subjected to rigorous \n",
      "review, the USGS reserves the right to update the software as needed \n",
      "pursuant to further analysis and review. No warranty, expressed or \n",
      "implied, is made by the USGS or the U.S. Government as to the \n",
      "functionality of the software and related material nor shall the \n",
      "fact of release constitute any such warranty. Furthermore, the \n",
      "software is released on condition that neither the USGS nor the U.S. \n",
      "Government shall be held liable for any damages resulting from its \n",
      "authorized or unauthorized use. Also refer to the USGS Water \n",
      "Resources Software User Rights Notice for complete use, copyright, \n",
      "and distribution information.\n",
      "\n",
      "\n",
      " MODFLOW runs in SEQUENTIAL mode\n",
      "\n",
      " Run start date and time (yyyy/mm/dd hh:mm:ss): 2025/05/21 16:26:16\n",
      "\n",
      " Writing simulation list file: mfsim.lst\n",
      " Using Simulation name file: mfsim.nam\n",
      "\n",
      "    Solving:  Stress period:     1    Time step:     1\n",
      "\n",
      " Run end date and time (yyyy/mm/dd hh:mm:ss): 2025/05/21 16:26:16\n",
      " Elapsed run time:  0.007 Seconds\n",
      "\n",
      " Normal termination of simulation.\n"
     ]
    },
    {
     "data": {
      "text/plain": [
       "(True, [])"
      ]
     },
     "execution_count": 15,
     "metadata": {},
     "output_type": "execute_result"
    }
   ],
   "source": [
    "sim.run_simulation()"
   ]
  },
  {
   "cell_type": "markdown",
   "metadata": {},
   "source": [
    "If the run was successful, you should have seen a window reporting *\"Normal termination of simulation.\"* and the run time data. "
   ]
  },
  {
   "cell_type": "markdown",
   "metadata": {},
   "source": [
    " <a name=\"IX\"></a> \n",
    "## IX. Read Head/Flow Data"
   ]
  },
  {
   "cell_type": "code",
   "execution_count": 16,
   "metadata": {},
   "outputs": [],
   "source": [
    "# Retrieve the head and budget data from the simulation output\n",
    "\n",
    "head_data = gwf.output.head().get_data()\n",
    "budget_data = gwf.output.budget()"
   ]
  },
  {
   "cell_type": "markdown",
   "metadata": {},
   "source": [
    "This head object has different attributes that can be extracted from it such as the times used in the model run, head data, databytes and more. For information on how to access these functions see: http://modflowpy.github.io/flopydoc/binaryfile.html\n",
    "\n",
    "For this model, we will extract the head data after our single stress period (totim=1.0)."
   ]
  },
  {
   "cell_type": "markdown",
   "metadata": {},
   "source": [
    "### Read Flow Data"
   ]
  },
  {
   "cell_type": "code",
   "execution_count": 22,
   "metadata": {},
   "outputs": [],
   "source": [
    "# Extract specific discharge data from the budget output\n",
    "specific_discharge_data = budget_data.get_data(text='DATA-SPDIS')[0]\n",
    "\n",
    "# Extract individual components of specific discharge (qx, qy, qz)\n",
    "qx, qy, qz = flopy.utils.postprocessing.get_specific_discharge(specific_discharge_data, gwf)"
   ]
  },
  {
   "cell_type": "markdown",
   "metadata": {},
   "source": [
    " <a name=\"X\"></a> \n",
    "## X. Plotting"
   ]
  },
  {
   "cell_type": "code",
   "execution_count": 23,
   "metadata": {},
   "outputs": [
    {
     "data": {
      "image/png": "[encoded data removed]",
      "text/plain": [
       "<Figure size 1000x1000 with 2 Axes>"
      ]
     },
     "metadata": {},
     "output_type": "display_data"
    }
   ],
   "source": [
    "# 2-D arrays for the first (only) layer\n",
    "h  = head_data[0]   # heads\n",
    "qx0, qy0 = qx[0], qy[0]   # specific-discharge components\n",
    "\n",
    "plt.figure(figsize=(10, 10))\n",
    "map_view = PlotMapView(model=gwf, layer=0)\n",
    "map_view.plot_grid()\n",
    "\n",
    "# head contours\n",
    "contours = np.linspace(h.min(), h.max(), 11)\n",
    "head_cs  = map_view.contour_array(h, levels=contours)\n",
    "\n",
    "# discharge arrows\n",
    "map_view.plot_vector(qx0, qy0, normalize=True)\n",
    "\n",
    "# labels & legend\n",
    "plt.xlabel(\"Lx (m)\", fontsize=14)\n",
    "plt.ylabel(\"Ly (m)\", fontsize=14)\n",
    "plt.title(\"Steady-state head (m) and specific discharge (m / day)\", \n",
    "          fontsize=15, fontweight=\"bold\")\n",
    "plt.colorbar(head_cs, aspect=5).set_label(\"head (m)\", fontsize=15)\n",
    "plt.show()"
   ]
  },
  {
   "cell_type": "markdown",
   "metadata": {},
   "source": [
    "### 3D Surface Plot \n",
    "\n",
    "<strong> Note: </strong> This is not part of flopy's plotting, and uses a matplotlib function from a 3d projection toolkit. Flopy takes cell indexing where the top left of the grid is the (0,0) cell index while the Length & Width units start at 0 in the lower left of the grid. This seems a little wierd, but it makes it easy to match up an array of cell by cell numbers to their respective locations on the grid when assigning properties or observing output data. Flopy's plotting functions automatically flip the resultant head data to display on its proper grid, however, for the 3d plots below, you'll see the function np.flipud() is used to flip the data array to plot in the same direction."
   ]
  },
  {
   "cell_type": "code",
   "execution_count": null,
   "metadata": {},
   "outputs": [],
   "source": [
    "#import 3d axes toolkit from matplotlib\n",
    "from mpl_toolkits.mplot3d import Axes3D\n",
    "\n",
    "#create 3d figure\n",
    "fig_3d = plt.figure(figsize=(12,5))\n",
    "ax = fig_3d.gca(projection='3d')\n",
    "\n",
    "#set X, Y, Z variables for 3d plot to be our model domain and head solution\n",
    "X = np.arange(0,Lx,dx)\n",
    "Y = np.arange(0,Ly,dy)\n",
    "X, Y = np.meshgrid(X, Y)\n",
    "Z = np.flipud(head[0])\n",
    "\n",
    "#create surface and labels\n",
    "surf = ax.plot_surface(X,Y,Z, cmap = plt.cm.coolwarm, linewidth=0, antialiased=False, label='head')\n",
    "fig_3d.colorbar(surf,shrink=0.5,aspect=5).set_label('Head (m)',fontsize=10,fontweight='bold')\n",
    "ax.set_xlabel('Lx (m)', fontsize=15, fontweight='bold')\n",
    "ax.set_ylabel('Ly (m)', fontsize=15, fontweight='bold')\n",
    "ax.set_title('Steady-State Model Head Profile', fontsize=15, fontweight='bold')\n",
    "plt.show(surf)"
   ]
  },
  {
   "cell_type": "markdown",
   "metadata": {},
   "source": [
    "Congratulations! You just used flopy to run a single-layer, steady-state model in MODFLOW-2005! \n",
    "\n",
    "<strong>Activity:</strong> Try going back to where we defined the starting heads in the LPF package and changing the left and right boundary conditions. How does the head surface change?\n",
    "\n",
    "What happens if you add another row of constant head cells to the model by modifying the IBOUND variable and set those to a different value of starting heads?"
   ]
  }
 ],
 "metadata": {
  "kernelspec": {
   "display_name": "2024nov",
   "language": "python",
   "name": "python3"
  },
  "language_info": {
   "codemirror_mode": {
    "name": "ipython",
    "version": 3
   },
   "file_extension": ".py",
   "mimetype": "text/x-python",
   "name": "python",
   "nbconvert_exporter": "python",
   "pygments_lexer": "ipython3",
   "version": "3.13.0"
  }
 },
 "nbformat": 4,
 "nbformat_minor": 2
}
